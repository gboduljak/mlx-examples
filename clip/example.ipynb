{
 "cells": [
  {
   "cell_type": "code",
   "execution_count": 6,
   "metadata": {},
   "outputs": [
    {
     "name": "stdout",
     "output_type": "stream",
     "text": [
      "text embeddings:\n",
      "array([[0.0148391, 0.0069961, -0.0233705, ..., -0.0508463, -0.0437914, 0.00330403],\n",
      "       [0.00870739, 0.0258293, -0.0386577, ..., -0.0546769, -0.0241999, 0.0111514]], dtype=float32)\n",
      "image embeddings:\n",
      "array([[-0.00978788, 0.0127698, -0.0274189, ..., 0.0802634, -0.00135005, 0.0237339],\n",
      "       [0.017399, 0.0232256, -0.0505955, ..., 0.0478406, 0.0470153, 0.00132057]], dtype=float32)\n",
      "CLIP loss: array(0.00763702, dtype=float32)\n"
     ]
    }
   ],
   "source": [
    "from pathlib import Path\n",
    "from model import CLIPModel\n",
    "from PIL import Image\n",
    "from preprocessing.tokenizer import CLIPTokenizer\n",
    "from preprocessing.image_processor import CLIPImageProcessor\n",
    "\n",
    "MODEL: str = \"openai/clip-vit-base-patch32\"\n",
    "CONVERTED_CKPT_PATH: str = f\"weights/mlx/{MODEL}\"\n",
    "\n",
    "# Load pretrained MLX CLIPModel\n",
    "mlx_clip = CLIPModel.from_pretrained(Path(CONVERTED_CKPT_PATH))\n",
    "# Load input tokenizer and transformers image (pre)processor\n",
    "tokenizer = CLIPTokenizer.from_pretrained(Path(CONVERTED_CKPT_PATH))\n",
    "img_processor = CLIPImageProcessor.from_pretrained(Path(CONVERTED_CKPT_PATH))\n",
    "# Preprocess the input\n",
    "clip_input = {\n",
    "    \"input_ids\": tokenizer([\"a photo of a cat\", \"a photo of a dog\"]),\n",
    "    \"pixel_values\": img_processor([Image.open(\"cats.jpeg\"), Image.open(\"dog.jpeg\")])\n",
    "}\n",
    "# Compute the output\n",
    "mlx_out = mlx_clip(\n",
    "    **clip_input,\n",
    "    return_loss=True\n",
    ")\n",
    "# Print some embeddings and the CLIP loss\n",
    "print(\"text embeddings:\")\n",
    "print(mlx_out.text_embeds)\n",
    "print(\"image embeddings:\")\n",
    "print(mlx_out.image_embeds)\n",
    "print(f\"CLIP loss: {mlx_out.loss}\")"
   ]
  }
 ],
 "metadata": {
  "kernelspec": {
   "display_name": "clip-UKiMdW1A",
   "language": "python",
   "name": "python3"
  },
  "language_info": {
   "codemirror_mode": {
    "name": "ipython",
    "version": 3
   },
   "file_extension": ".py",
   "mimetype": "text/x-python",
   "name": "python",
   "nbconvert_exporter": "python",
   "pygments_lexer": "ipython3",
   "version": "3.10.11"
  }
 },
 "nbformat": 4,
 "nbformat_minor": 2
}
